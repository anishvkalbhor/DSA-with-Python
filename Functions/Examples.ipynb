{
 "cells": [
  {
   "cell_type": "markdown",
   "metadata": {},
   "source": [
    "## Temprature Conversion"
   ]
  },
  {
   "cell_type": "code",
   "execution_count": 2,
   "metadata": {},
   "outputs": [
    {
     "name": "stdout",
     "output_type": "stream",
     "text": [
      "77.0\n",
      "-3.888888888888889\n",
      "298.15\n"
     ]
    }
   ],
   "source": [
    "def convert_temp(temp, unit):\n",
    "    \"\"\"This function converts temperature from Celsius and farenheit\"\"\"\n",
    "    if unit == 'C':\n",
    "        return (temp * 9/5) +32 #C to F\n",
    "    elif unit == 'F':\n",
    "        return (temp - 32) * 5/9 #F to C\n",
    "    elif unit == 'K':\n",
    "        return temp + 273.15 #C to K\n",
    "    else:\n",
    "        return None\n",
    "    \n",
    "print(convert_temp(25, 'C'))\n",
    "print(convert_temp(25, 'F'))\n",
    "print(convert_temp(25, 'K'))"
   ]
  },
  {
   "cell_type": "markdown",
   "metadata": {},
   "source": [
    "## Password Strength Checker"
   ]
  },
  {
   "cell_type": "code",
   "execution_count": 6,
   "metadata": {},
   "outputs": [
    {
     "name": "stdout",
     "output_type": "stream",
     "text": [
      "True\n"
     ]
    }
   ],
   "source": [
    "def pass_check(password):\n",
    "    \"\"\"This function checks if the password is strong\"\"\"\n",
    "    if len(password) < 8:\n",
    "        return False\n",
    "    elif password.isalpha():\n",
    "        return False\n",
    "    elif password.isdigit():\n",
    "        return False\n",
    "    else:\n",
    "        return True\n",
    "    \n",
    "print(pass_check('Anish2003@'))"
   ]
  },
  {
   "cell_type": "markdown",
   "metadata": {},
   "source": [
    "## Calculate the total cost of items in a shopping cart"
   ]
  },
  {
   "cell_type": "code",
   "execution_count": 8,
   "metadata": {},
   "outputs": [
    {
     "name": "stdout",
     "output_type": "stream",
     "text": [
      "2071\n"
     ]
    }
   ],
   "source": [
    "def calc_total_cost(cart):\n",
    "    total_cost = 0\n",
    "    for item in cart:\n",
    "        total_cost += item['price'] * item['qty']\n",
    "    return total_cost\n",
    "\n",
    "## Example Cart data\n",
    "\n",
    "cart = [\n",
    "    {'name': 'Apple', 'price' : 104, 'qty' : 4 },\n",
    "    {'name': 'Banana', 'price' : 305, 'qty' : 3 },\n",
    "    {'name': 'Cherry', 'price' : 120, 'qty' : 5 },\n",
    "    {'name': 'Kesar', 'price' : 140, 'qty' : 1 }\n",
    "]\n",
    "\n",
    "total_cost = calc_total_cost(cart)\n",
    "print(total_cost)"
   ]
  },
  {
   "cell_type": "markdown",
   "metadata": {},
   "source": [
    "## Palindrome"
   ]
  },
  {
   "cell_type": "code",
   "execution_count": 10,
   "metadata": {},
   "outputs": [
    {
     "data": {
      "text/plain": [
       "True"
      ]
     },
     "execution_count": 10,
     "metadata": {},
     "output_type": "execute_result"
    }
   ],
   "source": [
    "def is_palindrome(s):\n",
    "    s = s.lower().replace(' ', '')\n",
    "    return s[::-1] == s\n",
    "\n",
    "is_palindrome('racecar')"
   ]
  },
  {
   "cell_type": "code",
   "execution_count": null,
   "metadata": {},
   "outputs": [],
   "source": []
  }
 ],
 "metadata": {
  "kernelspec": {
   "display_name": "base",
   "language": "python",
   "name": "python3"
  },
  "language_info": {
   "codemirror_mode": {
    "name": "ipython",
    "version": 3
   },
   "file_extension": ".py",
   "mimetype": "text/x-python",
   "name": "python",
   "nbconvert_exporter": "python",
   "pygments_lexer": "ipython3",
   "version": "3.12.7"
  }
 },
 "nbformat": 4,
 "nbformat_minor": 2
}
