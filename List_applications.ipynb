{
 "cells": [
  {
   "cell_type": "code",
   "execution_count": 3,
   "metadata": {},
   "outputs": [
    {
     "name": "stdout",
     "output_type": "stream",
     "text": [
      "You do not need to pay bills\n",
      "Remaining tasks: \n",
      "Clean House\n",
      "Cook Dinner\n",
      "Wash Dishes\n",
      "Walk Dog\n",
      "Schedule Meeting\n",
      "Go for a run\n"
     ]
    }
   ],
   "source": [
    "to_do_list = [\"Buy Groceries\", \"Clean House\", \"Cook Dinner\", \"Wash Dishes\", \"Walk Dog\"]\n",
    "\n",
    "## Adding a tast\n",
    "\n",
    "to_do_list.append(\"Schedule Meeting\")\n",
    "to_do_list.append(\"Go for a run\")\n",
    "\n",
    "## Removing the first task\n",
    "\n",
    "to_do_list.remove(\"Buy Groceries\")\n",
    "\n",
    "## checking if a tast is nin the list\n",
    "if \"pay Bills\" in to_do_list:\n",
    "    print(\"You need to pay bills\")\n",
    "else:\n",
    "    print(\"You do not need to pay bills\")\n",
    "\n",
    "print(\"Remaining tasks: \")\n",
    "for tasks in to_do_list:\n",
    "    print(tasks)"
   ]
  },
  {
   "cell_type": "code",
   "execution_count": null,
   "metadata": {},
   "outputs": [],
   "source": []
  }
 ],
 "metadata": {
  "kernelspec": {
   "display_name": "base",
   "language": "python",
   "name": "python3"
  },
  "language_info": {
   "codemirror_mode": {
    "name": "ipython",
    "version": 3
   },
   "file_extension": ".py",
   "mimetype": "text/x-python",
   "name": "python",
   "nbconvert_exporter": "python",
   "pygments_lexer": "ipython3",
   "version": "3.12.7"
  }
 },
 "nbformat": 4,
 "nbformat_minor": 2
}
