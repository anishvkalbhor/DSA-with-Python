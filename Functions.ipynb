{
 "cells": [
  {
   "cell_type": "markdown",
   "metadata": {},
   "source": [
    "## Functions in Python"
   ]
  },
  {
   "cell_type": "code",
   "execution_count": 1,
   "metadata": {},
   "outputs": [],
   "source": [
    "def even_odd(num):\n",
    "    if num % 2 == 0:\n",
    "        return \"even\"\n",
    "    else:\n",
    "        return \"odd\""
   ]
  },
  {
   "cell_type": "code",
   "execution_count": 2,
   "metadata": {},
   "outputs": [
    {
     "data": {
      "text/plain": [
       "'even'"
      ]
     },
     "execution_count": 2,
     "metadata": {},
     "output_type": "execute_result"
    }
   ],
   "source": [
    "even_odd(2)"
   ]
  },
  {
   "cell_type": "code",
   "execution_count": 3,
   "metadata": {},
   "outputs": [
    {
     "name": "stdout",
     "output_type": "stream",
     "text": [
      "5\n"
     ]
    }
   ],
   "source": [
    "## function with multiple parameters\n",
    "\n",
    "def add(a, b):\n",
    "    return a + b\n",
    "\n",
    "result = add(2, 3)\n",
    "print(result)"
   ]
  },
  {
   "cell_type": "code",
   "execution_count": 5,
   "metadata": {},
   "outputs": [
    {
     "name": "stdout",
     "output_type": "stream",
     "text": [
      "Hello Anish Welcome to Python\n"
     ]
    }
   ],
   "source": [
    "## function with default parameters\n",
    "\n",
    "def greet(name): # name is a required parameter\n",
    "    print(f\"Hello {name} Welcome to Python\")\n",
    "\n",
    "greet(\"Anish\")"
   ]
  },
  {
   "cell_type": "code",
   "execution_count": 6,
   "metadata": {},
   "outputs": [
    {
     "name": "stdout",
     "output_type": "stream",
     "text": [
      "Hello Anish Welcome to Python\n"
     ]
    }
   ],
   "source": [
    "def greet(name=\"Anish\"): # default parameter\n",
    "    print(f\"Hello {name} Welcome to Python\")\n",
    "\n",
    "greet()"
   ]
  },
  {
   "cell_type": "code",
   "execution_count": 9,
   "metadata": {},
   "outputs": [],
   "source": [
    "### Varialble length arguments\n",
    "## Positional and Keyword arguments\n",
    "\n",
    "# def numbers(num1, num2, num3, num4):\n",
    "#     print(num1, num2, num3, num4)\n",
    "\n",
    "def numbers(*anish):\n",
    "    for number in anish:\n",
    "        print(number)"
   ]
  },
  {
   "cell_type": "code",
   "execution_count": 10,
   "metadata": {},
   "outputs": [
    {
     "name": "stdout",
     "output_type": "stream",
     "text": [
      "1\n",
      "2\n",
      "3\n",
      "4\n",
      "5\n",
      "6\n",
      "7\n",
      "8\n",
      "9\n",
      "Anish\n"
     ]
    }
   ],
   "source": [
    "numbers(1, 2, 3, 4, 5, 6, 7, 8, 9, \"Anish\")"
   ]
  },
  {
   "cell_type": "code",
   "execution_count": 12,
   "metadata": {},
   "outputs": [
    {
     "name": "stdout",
     "output_type": "stream",
     "text": [
      "1\n",
      "2\n",
      "3\n",
      "4\n",
      "5\n",
      "6\n",
      "7\n",
      "8\n",
      "9\n",
      "Anish\n"
     ]
    }
   ],
   "source": [
    "## positional arguments\n",
    "def numbers(*args):\n",
    "    for number in args:\n",
    "        print(number)\n",
    "\n",
    "numbers(1, 2, 3, 4, 5, 6, 7, 8, 9, \"Anish\")"
   ]
  },
  {
   "cell_type": "markdown",
   "metadata": {},
   "source": [
    "## Keywords Arguments"
   ]
  },
  {
   "cell_type": "code",
   "execution_count": 13,
   "metadata": {},
   "outputs": [],
   "source": [
    "def print_numbers(**kwargs):\n",
    "    for key, value in kwargs.items():\n",
    "        print(key, value)"
   ]
  },
  {
   "cell_type": "code",
   "execution_count": 16,
   "metadata": {},
   "outputs": [
    {
     "name": "stdout",
     "output_type": "stream",
     "text": [
      "num1 12\n",
      "num2 13\n",
      "num3 14\n",
      "num4 15\n"
     ]
    }
   ],
   "source": [
    "print_numbers(num1=12, num2=13, num3=14, num4=15)"
   ]
  },
  {
   "cell_type": "code",
   "execution_count": 17,
   "metadata": {},
   "outputs": [],
   "source": [
    "def print_numbers(*args, **kwargs):\n",
    "    for val in args:\n",
    "        print(f\"Positional Argument: {val}\")\n",
    "\n",
    "    for key, value in kwargs.items():\n",
    "        print(f\"{key} : {value}\")"
   ]
  },
  {
   "cell_type": "code",
   "execution_count": 18,
   "metadata": {},
   "outputs": [
    {
     "name": "stdout",
     "output_type": "stream",
     "text": [
      "Positional Argument: 1\n",
      "Positional Argument: 2\n",
      "Positional Argument: 3\n",
      "Positional Argument: 4\n",
      "Positional Argument: 5\n",
      "Positional Argument: Anish\n",
      "num1 : 12\n",
      "num2 : 13\n",
      "num3 : 14\n",
      "num4 : 15\n"
     ]
    }
   ],
   "source": [
    "print_numbers(1, 2, 3, 4, 5, \"Anish\", num1=12, num2=13, num3=14, num4=15)"
   ]
  },
  {
   "cell_type": "code",
   "execution_count": 19,
   "metadata": {},
   "outputs": [],
   "source": [
    "## Return statement\n",
    "\n",
    "def multiply(a, b):\n",
    "    return a * b;\n",
    "\n",
    "result = multiply(2, 3)"
   ]
  },
  {
   "cell_type": "code",
   "execution_count": 20,
   "metadata": {},
   "outputs": [
    {
     "name": "stdout",
     "output_type": "stream",
     "text": [
      "6\n"
     ]
    }
   ],
   "source": [
    "print(result)"
   ]
  },
  {
   "cell_type": "code",
   "execution_count": null,
   "metadata": {},
   "outputs": [],
   "source": []
  }
 ],
 "metadata": {
  "kernelspec": {
   "display_name": "base",
   "language": "python",
   "name": "python3"
  },
  "language_info": {
   "codemirror_mode": {
    "name": "ipython",
    "version": 3
   },
   "file_extension": ".py",
   "mimetype": "text/x-python",
   "name": "python",
   "nbconvert_exporter": "python",
   "pygments_lexer": "ipython3",
   "version": "3.12.7"
  }
 },
 "nbformat": 4,
 "nbformat_minor": 2
}
